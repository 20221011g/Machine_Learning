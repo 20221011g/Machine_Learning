{
 "cells": [
  {
   "cell_type": "markdown",
   "metadata": {},
   "source": [
    "<div align=\"center\">\n",
    "    <img src=\"https://storage.googleapis.com/kaggle-competitions/kaggle/39794/logos/header.png?t=2022-10-09-15-55-28\">\n",
    "    <div><h1>The Smith Parasite - An Unknown Parasitic Disease</h1>\n",
    "    <h3>Who is more likely to suffer from the Smith Parasite?</h3></div>\n",
    "\n",
    "<table>\n",
    "<thead>\n",
    "  <tr>\n",
    "    <th>First Name</th>\n",
    "    <th>Last Name</th>\n",
    "    <th>ID</th>\n",
    "  </tr>\n",
    "</thead>\n",
    "<tbody>\n",
    "  <tr>\n",
    "    <td>Ariel</td>\n",
    "    <td>Cerda</td>\n",
    "    <td></td>\n",
    "  </tr>\n",
    "  <tr>\n",
    "    <td>Gonçalo</td>\n",
    "    <td>Coutinho</td>\n",
    "    <td></td>\n",
    "  </tr>\n",
    "  <tr>\n",
    "    <td>Julio<br></td>\n",
    "    <td>Vigueras</td>\n",
    "    <td></td>\n",
    "  </tr>\n",
    "  <tr>\n",
    "    <td>Luis</td>\n",
    "    <td>Fernandes</td>\n",
    "    <td></td>\n",
    "  </tr>\n",
    "  <tr>\n",
    "    <td>Miguelangel</td>\n",
    "    <td>Mayuare<br></td>\n",
    "    <td>20220665</td>\n",
    "  </tr>\n",
    "</tbody>\n",
    "</table>    \n",
    "    \n",
    "</div>\n",
    "\n"
   ]
  },
  {
   "cell_type": "markdown",
   "source": [
    "## Proposed action plan\n",
    "\n",
    "For those who have more experience with exploring, cleaning, etc. Please, help with the plan so everybody can follow the same guidelines\n",
    "\n",
    "This is what I propose:\n",
    "\n",
    "### Steps for the project\n",
    "#### 1. Frame the problem\n",
    "This point is pretty clear. Is a classification problem to predict if a list of people have the parasite or not.\n",
    "#### 2. Explore de data to ge insights\n",
    "In this step we can use all the techniques required to inform us about the data, which features are useful and which aren't, like visualization, educated assumptions, etc.\n",
    "#### 3. Prepare the data\n",
    "All the dropping, dummyfication, transforming and feature engineering.\n",
    "#### 4. Explore different models and choose the best ones\n",
    "As it states, here we try the models and use the cross-validation.\n",
    "#### 5. Fine-tuning and possibly combine the models with some ensemble technique\n",
    "Using grid search or similar to obtain the best hyper-parameters and if it is better, combine the models.\n",
    "#### 6. Predict with the competition test set and submit\n",
    "\n",
    "As the rules says, we can submit 20 times per day, so there is a lot of room for experimentation.\n"
   ],
   "metadata": {
    "collapsed": false
   }
  },
  {
   "cell_type": "markdown",
   "source": [
    "## Version control\n",
    "\n",
    "We can use **Kaggle** to set new version of a collaborative notebook, nevertheless, we can work locally on our own computers. I do prefer to work locally and then upload the notebook to **Kaggle**.\n",
    "\n",
    "It's about downloading the notebook from **Kaggle** work in your computer and uploading again. After uploading, the version must be saved in order to others to see it. Version can be compared using **Kaggle** tools.\n",
    "\n",
    "If any of us are a software engineer or is used to **git**, then can teach the others and maybe we can all benefit of it, considering that **git** and **GitHub** are a much robust version control system. I'm not used to **GitHub**."
   ],
   "metadata": {
    "collapsed": false
   }
  },
  {
   "cell_type": "markdown",
   "source": [
    "## Developing environment\n",
    "It is better if we all use the same python version and packages and set an environment exclusively for the project, different from any other project.\n",
    "\n",
    "Anaconda is good for that, I can create an environment and pass the file, so you can create an environment with the exact same packages.\n",
    "\n",
    "If by majority, we prefer to work here in **Kaggle**, we will have the same environment and there is no need to share environments."
   ],
   "metadata": {
    "collapsed": false
   }
  },
  {
   "cell_type": "markdown",
   "source": [
    "## Developing\n",
    "\n",
    "The next cells shows a very naive data exploration, feature engineering and modeling, it is disordered, not following the guidelines shown above, but it gave a jump start to know the model.\n",
    "\n",
    "When modifying the notebook, don't worry if you delete instead of comment lines. If we use the version control system, versions can be compared.\n",
    "\n",
    "Let's get ready to rumble!\n",
    "\n",
    "*Miguelangel Mayuare*"
   ],
   "metadata": {
    "collapsed": false
   }
  },
  {
   "cell_type": "code",
   "execution_count": 33,
   "metadata": {
    "collapsed": true,
    "jupyter": {
     "outputs_hidden": true
    }
   },
   "outputs": [
    {
     "data": {
      "text/html": [
       "img {\n",
       "  max-width: 800px;\n",
       "  height: auto;\n",
       "}"
      ],
      "text/plain": [
       "<IPython.core.display.HTML object>"
      ]
     },
     "execution_count": 33,
     "metadata": {},
     "output_type": "execute_result"
    }
   ],
   "source": [
    "import pandas as pd\n",
    "import numpy as np\n",
    "import matplotlib.pyplot as plt\n",
    "import seaborn as sns\n",
    "from datetime import datetime\n",
    "\n",
    "# scikit learn imports\n",
    "from sklearn.linear_model import LogisticRegression\n",
    "from sklearn.model_selection import train_test_split\n",
    "\n",
    "from sklearn.preprocessing import OneHotEncoder\n",
    "from sklearn.preprocessing import OrdinalEncoder\n",
    "\n",
    "from sklearn.preprocessing import MinMaxScaler\n",
    "from sklearn.metrics import f1_score\n",
    "\n"
   ]
  },
  {
   "cell_type": "code",
   "execution_count": 2,
   "metadata": {
    "collapsed": false,
    "jupyter": {
     "outputs_hidden": false
    }
   },
   "outputs": [],
   "source": [
    "# import all the files\n",
    "train_demo = pd.read_excel('data/train_demo.xlsx')\n",
    "train_habits = pd.read_excel('data/train_habits.xlsx')\n",
    "train_health = pd.read_excel('data/train_health.xlsx')\n",
    "test_demo = pd.read_excel('data/test_demo.xlsx')\n",
    "test_habits = pd.read_excel('data/test_habits.xlsx')\n",
    "test_health = pd.read_excel('data/test_health.xlsx')"
   ]
  },
  {
   "cell_type": "code",
   "execution_count": 4,
   "metadata": {
    "collapsed": false,
    "jupyter": {
     "outputs_hidden": false
    }
   },
   "outputs": [],
   "source": [
    "# check the files in the following cells"
   ]
  },
  {
   "cell_type": "code",
   "execution_count": 3,
   "metadata": {
    "collapsed": false,
    "jupyter": {
     "outputs_hidden": false
    }
   },
   "outputs": [
    {
     "data": {
      "text/html": [
       "<div>\n",
       "<style scoped>\n",
       "    .dataframe tbody tr th:only-of-type {\n",
       "        vertical-align: middle;\n",
       "    }\n",
       "\n",
       "    .dataframe tbody tr th {\n",
       "        vertical-align: top;\n",
       "    }\n",
       "\n",
       "    .dataframe thead th {\n",
       "        text-align: right;\n",
       "    }\n",
       "</style>\n",
       "<table border=\"1\" class=\"dataframe\">\n",
       "  <thead>\n",
       "    <tr style=\"text-align: right;\">\n",
       "      <th></th>\n",
       "      <th>PatientID</th>\n",
       "      <th>Name</th>\n",
       "      <th>Birth_Year</th>\n",
       "      <th>Region</th>\n",
       "      <th>Education</th>\n",
       "      <th>Disease</th>\n",
       "    </tr>\n",
       "  </thead>\n",
       "  <tbody>\n",
       "    <tr>\n",
       "      <th>0</th>\n",
       "      <td>1167</td>\n",
       "      <td>Mrs. Stephanie Gay</td>\n",
       "      <td>1965</td>\n",
       "      <td>London</td>\n",
       "      <td>High School Incomplete (10th to 11th grade)</td>\n",
       "      <td>1</td>\n",
       "    </tr>\n",
       "    <tr>\n",
       "      <th>1</th>\n",
       "      <td>1805</td>\n",
       "      <td>Mr. Sherman Nero</td>\n",
       "      <td>1969</td>\n",
       "      <td>South West</td>\n",
       "      <td>High School Incomplete (10th to 11th grade)</td>\n",
       "      <td>1</td>\n",
       "    </tr>\n",
       "    <tr>\n",
       "      <th>2</th>\n",
       "      <td>1557</td>\n",
       "      <td>Mr. Mark Boller</td>\n",
       "      <td>1974</td>\n",
       "      <td>Yorkshire and the Humber</td>\n",
       "      <td>Elementary School (1st to 9th grade)</td>\n",
       "      <td>1</td>\n",
       "    </tr>\n",
       "    <tr>\n",
       "      <th>3</th>\n",
       "      <td>1658</td>\n",
       "      <td>Mr. David Caffee</td>\n",
       "      <td>1958</td>\n",
       "      <td>London</td>\n",
       "      <td>University Complete (3 or more years)</td>\n",
       "      <td>0</td>\n",
       "    </tr>\n",
       "    <tr>\n",
       "      <th>4</th>\n",
       "      <td>1544</td>\n",
       "      <td>Mr. Gerald Emery</td>\n",
       "      <td>1968</td>\n",
       "      <td>South East</td>\n",
       "      <td>University Incomplete (1 to 2 years)</td>\n",
       "      <td>1</td>\n",
       "    </tr>\n",
       "  </tbody>\n",
       "</table>\n",
       "</div>"
      ],
      "text/plain": [
       "   PatientID                Name  Birth_Year                    Region  \\\n",
       "0       1167  Mrs. Stephanie Gay        1965                    London   \n",
       "1       1805    Mr. Sherman Nero        1969                South West   \n",
       "2       1557     Mr. Mark Boller        1974  Yorkshire and the Humber   \n",
       "3       1658    Mr. David Caffee        1958                    London   \n",
       "4       1544    Mr. Gerald Emery        1968                South East   \n",
       "\n",
       "                                     Education  Disease  \n",
       "0  High School Incomplete (10th to 11th grade)        1  \n",
       "1  High School Incomplete (10th to 11th grade)        1  \n",
       "2         Elementary School (1st to 9th grade)        1  \n",
       "3        University Complete (3 or more years)        0  \n",
       "4         University Incomplete (1 to 2 years)        1  "
      ]
     },
     "execution_count": 3,
     "metadata": {},
     "output_type": "execute_result"
    }
   ],
   "source": [
    "train_demo.head()"
   ]
  },
  {
   "cell_type": "code",
   "execution_count": 4,
   "metadata": {
    "collapsed": false,
    "jupyter": {
     "outputs_hidden": false
    }
   },
   "outputs": [
    {
     "data": {
      "text/html": [
       "<div>\n",
       "<style scoped>\n",
       "    .dataframe tbody tr th:only-of-type {\n",
       "        vertical-align: middle;\n",
       "    }\n",
       "\n",
       "    .dataframe tbody tr th {\n",
       "        vertical-align: top;\n",
       "    }\n",
       "\n",
       "    .dataframe thead th {\n",
       "        text-align: right;\n",
       "    }\n",
       "</style>\n",
       "<table border=\"1\" class=\"dataframe\">\n",
       "  <thead>\n",
       "    <tr style=\"text-align: right;\">\n",
       "      <th></th>\n",
       "      <th>PatientID</th>\n",
       "      <th>Smoking_Habit</th>\n",
       "      <th>Drinking_Habit</th>\n",
       "      <th>Exercise</th>\n",
       "      <th>Fruit_Habit</th>\n",
       "      <th>Water_Habit</th>\n",
       "    </tr>\n",
       "  </thead>\n",
       "  <tbody>\n",
       "    <tr>\n",
       "      <th>0</th>\n",
       "      <td>1167</td>\n",
       "      <td>No</td>\n",
       "      <td>I usually consume alcohol every day</td>\n",
       "      <td>Yes</td>\n",
       "      <td>Less than 1. I do not consume fruits every day.</td>\n",
       "      <td>Between one liter and two liters</td>\n",
       "    </tr>\n",
       "    <tr>\n",
       "      <th>1</th>\n",
       "      <td>1805</td>\n",
       "      <td>No</td>\n",
       "      <td>I consider myself a social drinker</td>\n",
       "      <td>Yes</td>\n",
       "      <td>Less than 1. I do not consume fruits every day.</td>\n",
       "      <td>Between one liter and two liters</td>\n",
       "    </tr>\n",
       "    <tr>\n",
       "      <th>2</th>\n",
       "      <td>1557</td>\n",
       "      <td>No</td>\n",
       "      <td>I consider myself a social drinker</td>\n",
       "      <td>No</td>\n",
       "      <td>Less than 1. I do not consume fruits every day.</td>\n",
       "      <td>More than half a liter but less than one liter</td>\n",
       "    </tr>\n",
       "    <tr>\n",
       "      <th>3</th>\n",
       "      <td>1658</td>\n",
       "      <td>No</td>\n",
       "      <td>I usually consume alcohol every day</td>\n",
       "      <td>Yes</td>\n",
       "      <td>Less than 1. I do not consume fruits every day.</td>\n",
       "      <td>More than half a liter but less than one liter</td>\n",
       "    </tr>\n",
       "    <tr>\n",
       "      <th>4</th>\n",
       "      <td>1544</td>\n",
       "      <td>No</td>\n",
       "      <td>I consider myself a social drinker</td>\n",
       "      <td>No</td>\n",
       "      <td>1 to 2 pieces of fruit in average</td>\n",
       "      <td>More than half a liter but less than one liter</td>\n",
       "    </tr>\n",
       "  </tbody>\n",
       "</table>\n",
       "</div>"
      ],
      "text/plain": [
       "   PatientID Smoking_Habit                       Drinking_Habit Exercise  \\\n",
       "0       1167            No  I usually consume alcohol every day      Yes   \n",
       "1       1805            No   I consider myself a social drinker      Yes   \n",
       "2       1557            No   I consider myself a social drinker       No   \n",
       "3       1658            No  I usually consume alcohol every day      Yes   \n",
       "4       1544            No   I consider myself a social drinker       No   \n",
       "\n",
       "                                       Fruit_Habit  \\\n",
       "0  Less than 1. I do not consume fruits every day.   \n",
       "1  Less than 1. I do not consume fruits every day.   \n",
       "2  Less than 1. I do not consume fruits every day.   \n",
       "3  Less than 1. I do not consume fruits every day.   \n",
       "4                1 to 2 pieces of fruit in average   \n",
       "\n",
       "                                      Water_Habit  \n",
       "0                Between one liter and two liters  \n",
       "1                Between one liter and two liters  \n",
       "2  More than half a liter but less than one liter  \n",
       "3  More than half a liter but less than one liter  \n",
       "4  More than half a liter but less than one liter  "
      ]
     },
     "execution_count": 4,
     "metadata": {},
     "output_type": "execute_result"
    }
   ],
   "source": [
    "train_habits.head()"
   ]
  },
  {
   "cell_type": "code",
   "execution_count": 5,
   "metadata": {
    "collapsed": false,
    "jupyter": {
     "outputs_hidden": false
    }
   },
   "outputs": [
    {
     "data": {
      "text/plain": [
       "(No     673\n",
       " Yes    127\n",
       " Name: Smoking_Habit, dtype: int64,\n",
       " No     536\n",
       " Yes    264\n",
       " Name: Exercise, dtype: int64)"
      ]
     },
     "execution_count": 5,
     "metadata": {},
     "output_type": "execute_result"
    }
   ],
   "source": [
    "train_habits['Smoking_Habit'].value_counts(), train_habits['Exercise'].value_counts()"
   ]
  },
  {
   "cell_type": "code",
   "execution_count": 6,
   "metadata": {
    "collapsed": false,
    "jupyter": {
     "outputs_hidden": false
    }
   },
   "outputs": [
    {
     "data": {
      "text/html": [
       "<div>\n",
       "<style scoped>\n",
       "    .dataframe tbody tr th:only-of-type {\n",
       "        vertical-align: middle;\n",
       "    }\n",
       "\n",
       "    .dataframe tbody tr th {\n",
       "        vertical-align: top;\n",
       "    }\n",
       "\n",
       "    .dataframe thead th {\n",
       "        text-align: right;\n",
       "    }\n",
       "</style>\n",
       "<table border=\"1\" class=\"dataframe\">\n",
       "  <thead>\n",
       "    <tr style=\"text-align: right;\">\n",
       "      <th></th>\n",
       "      <th>PatientID</th>\n",
       "      <th>Height</th>\n",
       "      <th>Weight</th>\n",
       "      <th>High_Cholesterol</th>\n",
       "      <th>Blood_Pressure</th>\n",
       "      <th>Mental_Health</th>\n",
       "      <th>Physical_Health</th>\n",
       "      <th>Checkup</th>\n",
       "      <th>Diabetes</th>\n",
       "    </tr>\n",
       "  </thead>\n",
       "  <tbody>\n",
       "    <tr>\n",
       "      <th>0</th>\n",
       "      <td>1167</td>\n",
       "      <td>155</td>\n",
       "      <td>67</td>\n",
       "      <td>358</td>\n",
       "      <td>120</td>\n",
       "      <td>21</td>\n",
       "      <td>2</td>\n",
       "      <td>More than 3 years</td>\n",
       "      <td>Neither I nor my immediate family have diabetes.</td>\n",
       "    </tr>\n",
       "    <tr>\n",
       "      <th>1</th>\n",
       "      <td>1805</td>\n",
       "      <td>173</td>\n",
       "      <td>88</td>\n",
       "      <td>230</td>\n",
       "      <td>142</td>\n",
       "      <td>9</td>\n",
       "      <td>0</td>\n",
       "      <td>Not sure</td>\n",
       "      <td>Neither I nor my immediate family have diabetes.</td>\n",
       "    </tr>\n",
       "    <tr>\n",
       "      <th>2</th>\n",
       "      <td>1557</td>\n",
       "      <td>162</td>\n",
       "      <td>68</td>\n",
       "      <td>226</td>\n",
       "      <td>122</td>\n",
       "      <td>26</td>\n",
       "      <td>0</td>\n",
       "      <td>More than 3 years</td>\n",
       "      <td>Neither I nor my immediate family have diabetes.</td>\n",
       "    </tr>\n",
       "    <tr>\n",
       "      <th>3</th>\n",
       "      <td>1658</td>\n",
       "      <td>180</td>\n",
       "      <td>66</td>\n",
       "      <td>313</td>\n",
       "      <td>125</td>\n",
       "      <td>13</td>\n",
       "      <td>8</td>\n",
       "      <td>Not sure</td>\n",
       "      <td>I have/had pregnancy diabetes or borderline di...</td>\n",
       "    </tr>\n",
       "    <tr>\n",
       "      <th>4</th>\n",
       "      <td>1544</td>\n",
       "      <td>180</td>\n",
       "      <td>58</td>\n",
       "      <td>277</td>\n",
       "      <td>125</td>\n",
       "      <td>18</td>\n",
       "      <td>2</td>\n",
       "      <td>More than 3 years</td>\n",
       "      <td>I have/had pregnancy diabetes or borderline di...</td>\n",
       "    </tr>\n",
       "  </tbody>\n",
       "</table>\n",
       "</div>"
      ],
      "text/plain": [
       "   PatientID  Height  Weight  High_Cholesterol  Blood_Pressure  Mental_Health  \\\n",
       "0       1167     155      67               358             120             21   \n",
       "1       1805     173      88               230             142              9   \n",
       "2       1557     162      68               226             122             26   \n",
       "3       1658     180      66               313             125             13   \n",
       "4       1544     180      58               277             125             18   \n",
       "\n",
       "   Physical_Health            Checkup  \\\n",
       "0                2  More than 3 years   \n",
       "1                0           Not sure   \n",
       "2                0  More than 3 years   \n",
       "3                8           Not sure   \n",
       "4                2  More than 3 years   \n",
       "\n",
       "                                            Diabetes  \n",
       "0   Neither I nor my immediate family have diabetes.  \n",
       "1   Neither I nor my immediate family have diabetes.  \n",
       "2   Neither I nor my immediate family have diabetes.  \n",
       "3  I have/had pregnancy diabetes or borderline di...  \n",
       "4  I have/had pregnancy diabetes or borderline di...  "
      ]
     },
     "execution_count": 6,
     "metadata": {},
     "output_type": "execute_result"
    }
   ],
   "source": [
    "train_health.head()"
   ]
  },
  {
   "cell_type": "code",
   "execution_count": 7,
   "metadata": {
    "collapsed": false,
    "jupyter": {
     "outputs_hidden": false
    }
   },
   "outputs": [],
   "source": [
    "# join all on ids\n",
    "data = train_demo.merge(train_habits, how='left')\n",
    "data = data.merge(train_health, how='left')\n",
    "data_test = test_demo.merge(test_habits, how='left')\n",
    "data_test = data_test.merge(test_health, how='left')\n",
    "data.set_index('PatientID', inplace=True)\n",
    "data_test.set_index('PatientID', inplace=True)"
   ]
  },
  {
   "cell_type": "code",
   "execution_count": 7,
   "metadata": {
    "collapsed": false,
    "jupyter": {
     "outputs_hidden": false
    }
   },
   "outputs": [
    {
     "name": "stdout",
     "output_type": "stream",
     "text": [
      "<class 'pandas.core.frame.DataFrame'>\n",
      "Int64Index: 800 entries, 1167 to 1117\n",
      "Data columns (total 18 columns):\n",
      " #   Column            Non-Null Count  Dtype \n",
      "---  ------            --------------  ----- \n",
      " 0   Name              800 non-null    object\n",
      " 1   Birth_Year        800 non-null    int64 \n",
      " 2   Region            800 non-null    object\n",
      " 3   Education         787 non-null    object\n",
      " 4   Disease           800 non-null    int64 \n",
      " 5   Smoking_Habit     800 non-null    object\n",
      " 6   Drinking_Habit    800 non-null    object\n",
      " 7   Exercise          800 non-null    object\n",
      " 8   Fruit_Habit       800 non-null    object\n",
      " 9   Water_Habit       800 non-null    object\n",
      " 10  Height            800 non-null    int64 \n",
      " 11  Weight            800 non-null    int64 \n",
      " 12  High_Cholesterol  800 non-null    int64 \n",
      " 13  Blood_Pressure    800 non-null    int64 \n",
      " 14  Mental_Health     800 non-null    int64 \n",
      " 15  Physical_Health   800 non-null    int64 \n",
      " 16  Checkup           800 non-null    object\n",
      " 17  Diabetes          800 non-null    object\n",
      "dtypes: int64(8), object(10)\n",
      "memory usage: 118.8+ KB\n"
     ]
    }
   ],
   "source": [
    "data.info()"
   ]
  },
  {
   "cell_type": "code",
   "execution_count": 8,
   "metadata": {
    "collapsed": false,
    "jupyter": {
     "outputs_hidden": false
    }
   },
   "outputs": [
    {
     "name": "stdout",
     "output_type": "stream",
     "text": [
      "<class 'pandas.core.frame.DataFrame'>\n",
      "Int64Index: 225 entries, 1343 to 1757\n",
      "Data columns (total 17 columns):\n",
      " #   Column            Non-Null Count  Dtype \n",
      "---  ------            --------------  ----- \n",
      " 0   Name              225 non-null    object\n",
      " 1   Birth_Year        225 non-null    int64 \n",
      " 2   Region            225 non-null    object\n",
      " 3   Education         225 non-null    object\n",
      " 4   Smoking_Habit     225 non-null    object\n",
      " 5   Drinking_Habit    225 non-null    object\n",
      " 6   Exercise          225 non-null    object\n",
      " 7   Fruit_Habit       225 non-null    object\n",
      " 8   Water_Habit       225 non-null    object\n",
      " 9   Height            225 non-null    int64 \n",
      " 10  Weight            225 non-null    int64 \n",
      " 11  High_Cholesterol  225 non-null    int64 \n",
      " 12  Blood_Pressure    225 non-null    int64 \n",
      " 13  Mental_Health     225 non-null    int64 \n",
      " 14  Physical_Health   225 non-null    int64 \n",
      " 15  Checkup           225 non-null    object\n",
      " 16  Diabetes          225 non-null    object\n",
      "dtypes: int64(7), object(10)\n",
      "memory usage: 31.6+ KB\n"
     ]
    }
   ],
   "source": [
    "data_test.info()"
   ]
  },
  {
   "cell_type": "code",
   "execution_count": 9,
   "metadata": {
    "collapsed": false,
    "jupyter": {
     "outputs_hidden": false
    }
   },
   "outputs": [
    {
     "data": {
      "text/html": [
       "<div>\n",
       "<style scoped>\n",
       "    .dataframe tbody tr th:only-of-type {\n",
       "        vertical-align: middle;\n",
       "    }\n",
       "\n",
       "    .dataframe tbody tr th {\n",
       "        vertical-align: top;\n",
       "    }\n",
       "\n",
       "    .dataframe thead th {\n",
       "        text-align: right;\n",
       "    }\n",
       "</style>\n",
       "<table border=\"1\" class=\"dataframe\">\n",
       "  <thead>\n",
       "    <tr style=\"text-align: right;\">\n",
       "      <th></th>\n",
       "      <th>Name</th>\n",
       "      <th>Birth_Year</th>\n",
       "      <th>Region</th>\n",
       "      <th>Education</th>\n",
       "      <th>Smoking_Habit</th>\n",
       "      <th>Drinking_Habit</th>\n",
       "      <th>Exercise</th>\n",
       "      <th>Fruit_Habit</th>\n",
       "      <th>Water_Habit</th>\n",
       "      <th>Height</th>\n",
       "      <th>Weight</th>\n",
       "      <th>High_Cholesterol</th>\n",
       "      <th>Blood_Pressure</th>\n",
       "      <th>Mental_Health</th>\n",
       "      <th>Physical_Health</th>\n",
       "      <th>Checkup</th>\n",
       "      <th>Diabetes</th>\n",
       "    </tr>\n",
       "    <tr>\n",
       "      <th>PatientID</th>\n",
       "      <th></th>\n",
       "      <th></th>\n",
       "      <th></th>\n",
       "      <th></th>\n",
       "      <th></th>\n",
       "      <th></th>\n",
       "      <th></th>\n",
       "      <th></th>\n",
       "      <th></th>\n",
       "      <th></th>\n",
       "      <th></th>\n",
       "      <th></th>\n",
       "      <th></th>\n",
       "      <th></th>\n",
       "      <th></th>\n",
       "      <th></th>\n",
       "      <th></th>\n",
       "    </tr>\n",
       "  </thead>\n",
       "  <tbody>\n",
       "    <tr>\n",
       "      <th>1167</th>\n",
       "      <td>Mrs. Stephanie Gay</td>\n",
       "      <td>1965</td>\n",
       "      <td>London</td>\n",
       "      <td>High School Incomplete (10th to 11th grade)</td>\n",
       "      <td>No</td>\n",
       "      <td>I usually consume alcohol every day</td>\n",
       "      <td>Yes</td>\n",
       "      <td>Less than 1. I do not consume fruits every day.</td>\n",
       "      <td>Between one liter and two liters</td>\n",
       "      <td>155</td>\n",
       "      <td>67</td>\n",
       "      <td>358</td>\n",
       "      <td>120</td>\n",
       "      <td>21</td>\n",
       "      <td>2</td>\n",
       "      <td>More than 3 years</td>\n",
       "      <td>Neither I nor my immediate family have diabetes.</td>\n",
       "    </tr>\n",
       "    <tr>\n",
       "      <th>1805</th>\n",
       "      <td>Mr. Sherman Nero</td>\n",
       "      <td>1969</td>\n",
       "      <td>South West</td>\n",
       "      <td>High School Incomplete (10th to 11th grade)</td>\n",
       "      <td>No</td>\n",
       "      <td>I consider myself a social drinker</td>\n",
       "      <td>Yes</td>\n",
       "      <td>Less than 1. I do not consume fruits every day.</td>\n",
       "      <td>Between one liter and two liters</td>\n",
       "      <td>173</td>\n",
       "      <td>88</td>\n",
       "      <td>230</td>\n",
       "      <td>142</td>\n",
       "      <td>9</td>\n",
       "      <td>0</td>\n",
       "      <td>Not sure</td>\n",
       "      <td>Neither I nor my immediate family have diabetes.</td>\n",
       "    </tr>\n",
       "    <tr>\n",
       "      <th>1557</th>\n",
       "      <td>Mr. Mark Boller</td>\n",
       "      <td>1974</td>\n",
       "      <td>Yorkshire and the Humber</td>\n",
       "      <td>Elementary School (1st to 9th grade)</td>\n",
       "      <td>No</td>\n",
       "      <td>I consider myself a social drinker</td>\n",
       "      <td>No</td>\n",
       "      <td>Less than 1. I do not consume fruits every day.</td>\n",
       "      <td>More than half a liter but less than one liter</td>\n",
       "      <td>162</td>\n",
       "      <td>68</td>\n",
       "      <td>226</td>\n",
       "      <td>122</td>\n",
       "      <td>26</td>\n",
       "      <td>0</td>\n",
       "      <td>More than 3 years</td>\n",
       "      <td>Neither I nor my immediate family have diabetes.</td>\n",
       "    </tr>\n",
       "    <tr>\n",
       "      <th>1658</th>\n",
       "      <td>Mr. David Caffee</td>\n",
       "      <td>1958</td>\n",
       "      <td>London</td>\n",
       "      <td>University Complete (3 or more years)</td>\n",
       "      <td>No</td>\n",
       "      <td>I usually consume alcohol every day</td>\n",
       "      <td>Yes</td>\n",
       "      <td>Less than 1. I do not consume fruits every day.</td>\n",
       "      <td>More than half a liter but less than one liter</td>\n",
       "      <td>180</td>\n",
       "      <td>66</td>\n",
       "      <td>313</td>\n",
       "      <td>125</td>\n",
       "      <td>13</td>\n",
       "      <td>8</td>\n",
       "      <td>Not sure</td>\n",
       "      <td>I have/had pregnancy diabetes or borderline di...</td>\n",
       "    </tr>\n",
       "    <tr>\n",
       "      <th>1544</th>\n",
       "      <td>Mr. Gerald Emery</td>\n",
       "      <td>1968</td>\n",
       "      <td>South East</td>\n",
       "      <td>University Incomplete (1 to 2 years)</td>\n",
       "      <td>No</td>\n",
       "      <td>I consider myself a social drinker</td>\n",
       "      <td>No</td>\n",
       "      <td>1 to 2 pieces of fruit in average</td>\n",
       "      <td>More than half a liter but less than one liter</td>\n",
       "      <td>180</td>\n",
       "      <td>58</td>\n",
       "      <td>277</td>\n",
       "      <td>125</td>\n",
       "      <td>18</td>\n",
       "      <td>2</td>\n",
       "      <td>More than 3 years</td>\n",
       "      <td>I have/had pregnancy diabetes or borderline di...</td>\n",
       "    </tr>\n",
       "  </tbody>\n",
       "</table>\n",
       "</div>"
      ],
      "text/plain": [
       "                         Name  Birth_Year                    Region  \\\n",
       "PatientID                                                             \n",
       "1167       Mrs. Stephanie Gay        1965                    London   \n",
       "1805         Mr. Sherman Nero        1969                South West   \n",
       "1557          Mr. Mark Boller        1974  Yorkshire and the Humber   \n",
       "1658         Mr. David Caffee        1958                    London   \n",
       "1544         Mr. Gerald Emery        1968                South East   \n",
       "\n",
       "                                             Education Smoking_Habit  \\\n",
       "PatientID                                                              \n",
       "1167       High School Incomplete (10th to 11th grade)            No   \n",
       "1805       High School Incomplete (10th to 11th grade)            No   \n",
       "1557              Elementary School (1st to 9th grade)            No   \n",
       "1658             University Complete (3 or more years)            No   \n",
       "1544              University Incomplete (1 to 2 years)            No   \n",
       "\n",
       "                                Drinking_Habit Exercise  \\\n",
       "PatientID                                                 \n",
       "1167       I usually consume alcohol every day      Yes   \n",
       "1805        I consider myself a social drinker      Yes   \n",
       "1557        I consider myself a social drinker       No   \n",
       "1658       I usually consume alcohol every day      Yes   \n",
       "1544        I consider myself a social drinker       No   \n",
       "\n",
       "                                               Fruit_Habit  \\\n",
       "PatientID                                                    \n",
       "1167       Less than 1. I do not consume fruits every day.   \n",
       "1805       Less than 1. I do not consume fruits every day.   \n",
       "1557       Less than 1. I do not consume fruits every day.   \n",
       "1658       Less than 1. I do not consume fruits every day.   \n",
       "1544                     1 to 2 pieces of fruit in average   \n",
       "\n",
       "                                              Water_Habit  Height  Weight  \\\n",
       "PatientID                                                                   \n",
       "1167                     Between one liter and two liters     155      67   \n",
       "1805                     Between one liter and two liters     173      88   \n",
       "1557       More than half a liter but less than one liter     162      68   \n",
       "1658       More than half a liter but less than one liter     180      66   \n",
       "1544       More than half a liter but less than one liter     180      58   \n",
       "\n",
       "           High_Cholesterol  Blood_Pressure  Mental_Health  Physical_Health  \\\n",
       "PatientID                                                                     \n",
       "1167                    358             120             21                2   \n",
       "1805                    230             142              9                0   \n",
       "1557                    226             122             26                0   \n",
       "1658                    313             125             13                8   \n",
       "1544                    277             125             18                2   \n",
       "\n",
       "                     Checkup  \\\n",
       "PatientID                      \n",
       "1167       More than 3 years   \n",
       "1805                Not sure   \n",
       "1557       More than 3 years   \n",
       "1658                Not sure   \n",
       "1544       More than 3 years   \n",
       "\n",
       "                                                    Diabetes  \n",
       "PatientID                                                     \n",
       "1167        Neither I nor my immediate family have diabetes.  \n",
       "1805        Neither I nor my immediate family have diabetes.  \n",
       "1557        Neither I nor my immediate family have diabetes.  \n",
       "1658       I have/had pregnancy diabetes or borderline di...  \n",
       "1544       I have/had pregnancy diabetes or borderline di...  "
      ]
     },
     "execution_count": 9,
     "metadata": {},
     "output_type": "execute_result"
    }
   ],
   "source": [
    "# set X as the features and y as the target\n",
    "X = data.drop('Disease', axis=1).copy()\n",
    "y = data['Disease'].copy()\n",
    "X.head()\n"
   ]
  },
  {
   "cell_type": "code",
   "execution_count": 10,
   "metadata": {
    "collapsed": false,
    "jupyter": {
     "outputs_hidden": false
    }
   },
   "outputs": [
    {
     "data": {
      "text/plain": [
       "<AxesSubplot:>"
      ]
     },
     "execution_count": 10,
     "metadata": {},
     "output_type": "execute_result"
    },
    {
     "data": {
      "image/png": "[encoded data removed]",
      "text/plain": [
       "<Figure size 640x480 with 1 Axes>"
      ]
     },
     "metadata": {},
     "output_type": "display_data"
    }
   ],
   "source": [
    "# check for outliers in Age, we should check in every column\n",
    "X['Age'] = datetime.now().year - X['Birth_Year']\n",
    "X.drop('Birth_Year', inplace=True, axis=1)\n",
    "X['Age'].plot(kind='box')"
   ]
  },
  {
   "cell_type": "code",
   "execution_count": 13,
   "metadata": {
    "collapsed": false,
    "jupyter": {
     "outputs_hidden": false
    }
   },
   "outputs": [
    {
     "data": {
      "text/plain": [
       "False    0.985\n",
       "True     0.015\n",
       "Name: Age, dtype: float64"
      ]
     },
     "execution_count": 13,
     "metadata": {},
     "output_type": "execute_result"
    }
   ],
   "source": [
    "# check proportion of outliers\n",
    "(X['Age'] > 80).value_counts(normalize=True)\n",
    "# outliers conforms 1.5%"
   ]
  },
  {
   "cell_type": "code",
   "execution_count": 16,
   "metadata": {
    "collapsed": false,
    "jupyter": {
     "outputs_hidden": false
    }
   },
   "outputs": [
    {
     "data": {
      "text/plain": [
       "<bound method Series.isna of PatientID\n",
       "1167    57.0\n",
       "1805    53.0\n",
       "1557    48.0\n",
       "1658    64.0\n",
       "1544    54.0\n",
       "        ... \n",
       "1909    50.0\n",
       "1386    42.0\n",
       "1088    56.0\n",
       "1662    47.0\n",
       "1117    43.0\n",
       "Name: Age, Length: 800, dtype: float64>"
      ]
     },
     "execution_count": 16,
     "metadata": {},
     "output_type": "execute_result"
    }
   ],
   "source": [
    "# impute outliers with the median\n",
    "median_age = X['Age'].median()\n",
    "mask = X['Age'] > 80\n",
    "X['Age'].mask(mask, inplace=True)\n",
    "X['Age'].fillna(median_age, inplace=True)\n"
   ]
  },
  {
   "cell_type": "code",
   "execution_count": 17,
   "metadata": {
    "collapsed": false,
    "jupyter": {
     "outputs_hidden": false
    }
   },
   "outputs": [
    {
     "name": "stdout",
     "output_type": "stream",
     "text": [
      "<class 'pandas.core.series.Series'>\n",
      "Int64Index: 800 entries, 1167 to 1117\n",
      "Series name: Age\n",
      "Non-Null Count  Dtype  \n",
      "--------------  -----  \n",
      "800 non-null    float64\n",
      "dtypes: float64(1)\n",
      "memory usage: 12.5 KB\n"
     ]
    }
   ],
   "source": [
    "X['Age'].info()"
   ]
  },
  {
   "cell_type": "code",
   "execution_count": 18,
   "metadata": {
    "collapsed": false,
    "jupyter": {
     "outputs_hidden": false
    }
   },
   "outputs": [],
   "source": [
    "# set smoking and exercise as binary\n",
    "X['Smoking_Habit'].replace(['Yes', 'No'], [1, 0], inplace=True)\n",
    "X['Exercise'].replace(['Yes', 'No'], [1, 0], inplace=True)"
   ]
  },
  {
   "cell_type": "code",
   "execution_count": 14,
   "metadata": {
    "collapsed": false,
    "jupyter": {
     "outputs_hidden": false
    }
   },
   "outputs": [
    {
     "name": "stdout",
     "output_type": "stream",
     "text": [
      "<class 'pandas.core.series.Series'>\n",
      "Int64Index: 800 entries, 1167 to 1117\n",
      "Series name: Disease\n",
      "Non-Null Count  Dtype\n",
      "--------------  -----\n",
      "800 non-null    int64\n",
      "dtypes: int64(1)\n",
      "memory usage: 12.5 KB\n"
     ]
    }
   ],
   "source": [
    "y.info()"
   ]
  },
  {
   "cell_type": "code",
   "execution_count": 10,
   "metadata": {
    "collapsed": false,
    "jupyter": {
     "outputs_hidden": false
    }
   },
   "outputs": [
    {
     "data": {
      "text/html": [
       "<div>\n",
       "<style scoped>\n",
       "    .dataframe tbody tr th:only-of-type {\n",
       "        vertical-align: middle;\n",
       "    }\n",
       "\n",
       "    .dataframe tbody tr th {\n",
       "        vertical-align: top;\n",
       "    }\n",
       "\n",
       "    .dataframe thead th {\n",
       "        text-align: right;\n",
       "    }\n",
       "</style>\n",
       "<table border=\"1\" class=\"dataframe\">\n",
       "  <thead>\n",
       "    <tr style=\"text-align: right;\">\n",
       "      <th></th>\n",
       "      <th>Name</th>\n",
       "      <th>Birth_Year</th>\n",
       "      <th>Region</th>\n",
       "      <th>Education</th>\n",
       "      <th>Smoking_Habit</th>\n",
       "      <th>Drinking_Habit</th>\n",
       "      <th>Exercise</th>\n",
       "      <th>Fruit_Habit</th>\n",
       "      <th>Water_Habit</th>\n",
       "      <th>Height</th>\n",
       "      <th>Weight</th>\n",
       "      <th>High_Cholesterol</th>\n",
       "      <th>Blood_Pressure</th>\n",
       "      <th>Mental_Health</th>\n",
       "      <th>Physical_Health</th>\n",
       "      <th>Checkup</th>\n",
       "      <th>Diabetes</th>\n",
       "    </tr>\n",
       "    <tr>\n",
       "      <th>PatientID</th>\n",
       "      <th></th>\n",
       "      <th></th>\n",
       "      <th></th>\n",
       "      <th></th>\n",
       "      <th></th>\n",
       "      <th></th>\n",
       "      <th></th>\n",
       "      <th></th>\n",
       "      <th></th>\n",
       "      <th></th>\n",
       "      <th></th>\n",
       "      <th></th>\n",
       "      <th></th>\n",
       "      <th></th>\n",
       "      <th></th>\n",
       "      <th></th>\n",
       "      <th></th>\n",
       "    </tr>\n",
       "  </thead>\n",
       "  <tbody>\n",
       "    <tr>\n",
       "      <th>1167</th>\n",
       "      <td>Mrs. Stephanie Gay</td>\n",
       "      <td>1965</td>\n",
       "      <td>London</td>\n",
       "      <td>High School Incomplete (10th to 11th grade)</td>\n",
       "      <td>0</td>\n",
       "      <td>I usually consume alcohol every day</td>\n",
       "      <td>1</td>\n",
       "      <td>Less than 1. I do not consume fruits every day.</td>\n",
       "      <td>Between one liter and two liters</td>\n",
       "      <td>155</td>\n",
       "      <td>67</td>\n",
       "      <td>358</td>\n",
       "      <td>120</td>\n",
       "      <td>21</td>\n",
       "      <td>2</td>\n",
       "      <td>More than 3 years</td>\n",
       "      <td>Neither I nor my immediate family have diabetes.</td>\n",
       "    </tr>\n",
       "    <tr>\n",
       "      <th>1805</th>\n",
       "      <td>Mr. Sherman Nero</td>\n",
       "      <td>1969</td>\n",
       "      <td>South West</td>\n",
       "      <td>High School Incomplete (10th to 11th grade)</td>\n",
       "      <td>0</td>\n",
       "      <td>I consider myself a social drinker</td>\n",
       "      <td>1</td>\n",
       "      <td>Less than 1. I do not consume fruits every day.</td>\n",
       "      <td>Between one liter and two liters</td>\n",
       "      <td>173</td>\n",
       "      <td>88</td>\n",
       "      <td>230</td>\n",
       "      <td>142</td>\n",
       "      <td>9</td>\n",
       "      <td>0</td>\n",
       "      <td>Not sure</td>\n",
       "      <td>Neither I nor my immediate family have diabetes.</td>\n",
       "    </tr>\n",
       "    <tr>\n",
       "      <th>1557</th>\n",
       "      <td>Mr. Mark Boller</td>\n",
       "      <td>1974</td>\n",
       "      <td>Yorkshire and the Humber</td>\n",
       "      <td>Elementary School (1st to 9th grade)</td>\n",
       "      <td>0</td>\n",
       "      <td>I consider myself a social drinker</td>\n",
       "      <td>0</td>\n",
       "      <td>Less than 1. I do not consume fruits every day.</td>\n",
       "      <td>More than half a liter but less than one liter</td>\n",
       "      <td>162</td>\n",
       "      <td>68</td>\n",
       "      <td>226</td>\n",
       "      <td>122</td>\n",
       "      <td>26</td>\n",
       "      <td>0</td>\n",
       "      <td>More than 3 years</td>\n",
       "      <td>Neither I nor my immediate family have diabetes.</td>\n",
       "    </tr>\n",
       "    <tr>\n",
       "      <th>1658</th>\n",
       "      <td>Mr. David Caffee</td>\n",
       "      <td>1958</td>\n",
       "      <td>London</td>\n",
       "      <td>University Complete (3 or more years)</td>\n",
       "      <td>0</td>\n",
       "      <td>I usually consume alcohol every day</td>\n",
       "      <td>1</td>\n",
       "      <td>Less than 1. I do not consume fruits every day.</td>\n",
       "      <td>More than half a liter but less than one liter</td>\n",
       "      <td>180</td>\n",
       "      <td>66</td>\n",
       "      <td>313</td>\n",
       "      <td>125</td>\n",
       "      <td>13</td>\n",
       "      <td>8</td>\n",
       "      <td>Not sure</td>\n",
       "      <td>I have/had pregnancy diabetes or borderline di...</td>\n",
       "    </tr>\n",
       "    <tr>\n",
       "      <th>1544</th>\n",
       "      <td>Mr. Gerald Emery</td>\n",
       "      <td>1968</td>\n",
       "      <td>South East</td>\n",
       "      <td>University Incomplete (1 to 2 years)</td>\n",
       "      <td>0</td>\n",
       "      <td>I consider myself a social drinker</td>\n",
       "      <td>0</td>\n",
       "      <td>1 to 2 pieces of fruit in average</td>\n",
       "      <td>More than half a liter but less than one liter</td>\n",
       "      <td>180</td>\n",
       "      <td>58</td>\n",
       "      <td>277</td>\n",
       "      <td>125</td>\n",
       "      <td>18</td>\n",
       "      <td>2</td>\n",
       "      <td>More than 3 years</td>\n",
       "      <td>I have/had pregnancy diabetes or borderline di...</td>\n",
       "    </tr>\n",
       "  </tbody>\n",
       "</table>\n",
       "</div>"
      ],
      "text/plain": [
       "                         Name  Birth_Year                    Region  \\\n",
       "PatientID                                                             \n",
       "1167       Mrs. Stephanie Gay        1965                    London   \n",
       "1805         Mr. Sherman Nero        1969                South West   \n",
       "1557          Mr. Mark Boller        1974  Yorkshire and the Humber   \n",
       "1658         Mr. David Caffee        1958                    London   \n",
       "1544         Mr. Gerald Emery        1968                South East   \n",
       "\n",
       "                                             Education  Smoking_Habit  \\\n",
       "PatientID                                                               \n",
       "1167       High School Incomplete (10th to 11th grade)              0   \n",
       "1805       High School Incomplete (10th to 11th grade)              0   \n",
       "1557              Elementary School (1st to 9th grade)              0   \n",
       "1658             University Complete (3 or more years)              0   \n",
       "1544              University Incomplete (1 to 2 years)              0   \n",
       "\n",
       "                                Drinking_Habit  Exercise  \\\n",
       "PatientID                                                  \n",
       "1167       I usually consume alcohol every day         1   \n",
       "1805        I consider myself a social drinker         1   \n",
       "1557        I consider myself a social drinker         0   \n",
       "1658       I usually consume alcohol every day         1   \n",
       "1544        I consider myself a social drinker         0   \n",
       "\n",
       "                                               Fruit_Habit  \\\n",
       "PatientID                                                    \n",
       "1167       Less than 1. I do not consume fruits every day.   \n",
       "1805       Less than 1. I do not consume fruits every day.   \n",
       "1557       Less than 1. I do not consume fruits every day.   \n",
       "1658       Less than 1. I do not consume fruits every day.   \n",
       "1544                     1 to 2 pieces of fruit in average   \n",
       "\n",
       "                                              Water_Habit  Height  Weight  \\\n",
       "PatientID                                                                   \n",
       "1167                     Between one liter and two liters     155      67   \n",
       "1805                     Between one liter and two liters     173      88   \n",
       "1557       More than half a liter but less than one liter     162      68   \n",
       "1658       More than half a liter but less than one liter     180      66   \n",
       "1544       More than half a liter but less than one liter     180      58   \n",
       "\n",
       "           High_Cholesterol  Blood_Pressure  Mental_Health  Physical_Health  \\\n",
       "PatientID                                                                     \n",
       "1167                    358             120             21                2   \n",
       "1805                    230             142              9                0   \n",
       "1557                    226             122             26                0   \n",
       "1658                    313             125             13                8   \n",
       "1544                    277             125             18                2   \n",
       "\n",
       "                     Checkup  \\\n",
       "PatientID                      \n",
       "1167       More than 3 years   \n",
       "1805                Not sure   \n",
       "1557       More than 3 years   \n",
       "1658                Not sure   \n",
       "1544       More than 3 years   \n",
       "\n",
       "                                                    Diabetes  \n",
       "PatientID                                                     \n",
       "1167        Neither I nor my immediate family have diabetes.  \n",
       "1805        Neither I nor my immediate family have diabetes.  \n",
       "1557        Neither I nor my immediate family have diabetes.  \n",
       "1658       I have/had pregnancy diabetes or borderline di...  \n",
       "1544       I have/had pregnancy diabetes or borderline di...  "
      ]
     },
     "execution_count": 10,
     "metadata": {},
     "output_type": "execute_result"
    }
   ],
   "source": [
    "X.head()"
   ]
  },
  {
   "cell_type": "code",
   "execution_count": 19,
   "metadata": {
    "collapsed": false,
    "jupyter": {
     "outputs_hidden": false
    }
   },
   "outputs": [],
   "source": [
    "# drop the name column\n",
    "X.drop('Name', axis=1, inplace=True)"
   ]
  },
  {
   "cell_type": "code",
   "execution_count": 20,
   "metadata": {
    "collapsed": false,
    "jupyter": {
     "outputs_hidden": false
    }
   },
   "outputs": [
    {
     "data": {
      "text/plain": [
       "array(['London', 'South West', 'Yorkshire And The Humber', 'South East',\n",
       "       'East Midlands', 'West Midlands', 'East Of England', 'North West',\n",
       "       'North East'], dtype=object)"
      ]
     },
     "execution_count": 20,
     "metadata": {},
     "output_type": "execute_result"
    }
   ],
   "source": [
    "X['Region'] = X['Region'].str.title()\n",
    "data_test['Region'] = data_test['Region'].str.title()\n",
    "X.Region.unique()"
   ]
  },
  {
   "cell_type": "code",
   "execution_count": 21,
   "metadata": {
    "collapsed": false,
    "jupyter": {
     "outputs_hidden": false
    }
   },
   "outputs": [
    {
     "data": {
      "image/png": "[encoded data removed]",
      "text/plain": [
       "<Figure size 640x480 with 1 Axes>"
      ]
     },
     "metadata": {},
     "output_type": "display_data"
    }
   ],
   "source": [
    "sns.countplot(x=X['Region'], order=X['Region'].value_counts().index)\n",
    "plt.xticks(rotation=90)\n",
    "plt.show()"
   ]
  },
  {
   "cell_type": "code",
   "execution_count": 22,
   "metadata": {
    "collapsed": false,
    "jupyter": {
     "outputs_hidden": false
    }
   },
   "outputs": [
    {
     "data": {
      "image/png": "[encoded data removed]",
      "text/plain": [
       "<Figure size 640x480 with 1 Axes>"
      ]
     },
     "metadata": {},
     "output_type": "display_data"
    }
   ],
   "source": [
    "sns.countplot(data=X, x='Region', hue=y)\n",
    "plt.xticks(rotation=90)\n",
    "plt.show()"
   ]
  },
  {
   "cell_type": "markdown",
   "metadata": {},
   "source": [
    "It seems that being from certain region, does not affect the outcome. The infected ration is approximately 0.5 in each region"
   ]
  },
  {
   "cell_type": "code",
   "execution_count": 23,
   "metadata": {
    "collapsed": false,
    "jupyter": {
     "outputs_hidden": false
    }
   },
   "outputs": [],
   "source": [
    "X.drop('Region', inplace=True, axis=1)"
   ]
  },
  {
   "cell_type": "code",
   "execution_count": 13,
   "metadata": {
    "collapsed": false,
    "jupyter": {
     "outputs_hidden": false
    }
   },
   "outputs": [
    {
     "data": {
      "text/plain": [
       "array(['High School Incomplete (10th to 11th grade)',\n",
       "       'Elementary School (1st to 9th grade)',\n",
       "       'University Complete (3 or more years)',\n",
       "       'University Incomplete (1 to 2 years)', nan,\n",
       "       'High School Graduate', 'I never attended school / Other'],\n",
       "      dtype=object)"
      ]
     },
     "execution_count": 13,
     "metadata": {},
     "output_type": "execute_result"
    }
   ],
   "source": [
    "X.Education.unique()"
   ]
  },
  {
   "cell_type": "code",
   "execution_count": 37,
   "metadata": {
    "collapsed": false,
    "jupyter": {
     "outputs_hidden": false
    }
   },
   "outputs": [
    {
     "data": {
      "image/png": "[encoded data removed]",
      "text/plain": [
       "<Figure size 640x480 with 1 Axes>"
      ]
     },
     "metadata": {},
     "output_type": "display_data"
    }
   ],
   "source": [
    "sns.countplot(data=X, x='Education', hue=y)\n",
    "plt.xticks(rotation=90)\n",
    "plt.show()"
   ]
  },
  {
   "cell_type": "markdown",
   "metadata": {},
   "source": [
    "apart from Those with elementary school, there seems to not be a trend"
   ]
  },
  {
   "cell_type": "code",
   "execution_count": 13,
   "metadata": {
    "collapsed": false,
    "jupyter": {
     "outputs_hidden": false
    }
   },
   "outputs": [
    {
     "data": {
      "text/html": [
       "<div>\n",
       "<style scoped>\n",
       "    .dataframe tbody tr th:only-of-type {\n",
       "        vertical-align: middle;\n",
       "    }\n",
       "\n",
       "    .dataframe tbody tr th {\n",
       "        vertical-align: top;\n",
       "    }\n",
       "\n",
       "    .dataframe thead th {\n",
       "        text-align: right;\n",
       "    }\n",
       "</style>\n",
       "<table border=\"1\" class=\"dataframe\">\n",
       "  <thead>\n",
       "    <tr style=\"text-align: right;\">\n",
       "      <th></th>\n",
       "      <th>Birth_Year</th>\n",
       "      <th>Smoking_Habit</th>\n",
       "      <th>Exercise</th>\n",
       "      <th>Height</th>\n",
       "      <th>Weight</th>\n",
       "      <th>High_Cholesterol</th>\n",
       "      <th>Blood_Pressure</th>\n",
       "      <th>Mental_Health</th>\n",
       "      <th>Physical_Health</th>\n",
       "    </tr>\n",
       "  </thead>\n",
       "  <tbody>\n",
       "    <tr>\n",
       "      <th>Birth_Year</th>\n",
       "      <td>1.000000</td>\n",
       "      <td>-0.070033</td>\n",
       "      <td>-0.033557</td>\n",
       "      <td>0.097544</td>\n",
       "      <td>0.160576</td>\n",
       "      <td>-0.232736</td>\n",
       "      <td>-0.122117</td>\n",
       "      <td>0.199528</td>\n",
       "      <td>-0.159870</td>\n",
       "    </tr>\n",
       "    <tr>\n",
       "      <th>Smoking_Habit</th>\n",
       "      <td>-0.070033</td>\n",
       "      <td>1.000000</td>\n",
       "      <td>0.066124</td>\n",
       "      <td>0.032011</td>\n",
       "      <td>-0.012176</td>\n",
       "      <td>0.020645</td>\n",
       "      <td>0.195928</td>\n",
       "      <td>0.002660</td>\n",
       "      <td>0.031429</td>\n",
       "    </tr>\n",
       "    <tr>\n",
       "      <th>Exercise</th>\n",
       "      <td>-0.033557</td>\n",
       "      <td>0.066124</td>\n",
       "      <td>1.000000</td>\n",
       "      <td>0.056073</td>\n",
       "      <td>-0.187853</td>\n",
       "      <td>0.038320</td>\n",
       "      <td>0.077965</td>\n",
       "      <td>-0.341365</td>\n",
       "      <td>0.314121</td>\n",
       "    </tr>\n",
       "    <tr>\n",
       "      <th>Height</th>\n",
       "      <td>0.097544</td>\n",
       "      <td>0.032011</td>\n",
       "      <td>0.056073</td>\n",
       "      <td>1.000000</td>\n",
       "      <td>0.512673</td>\n",
       "      <td>-0.091066</td>\n",
       "      <td>-0.018564</td>\n",
       "      <td>-0.042378</td>\n",
       "      <td>0.059302</td>\n",
       "    </tr>\n",
       "    <tr>\n",
       "      <th>Weight</th>\n",
       "      <td>0.160576</td>\n",
       "      <td>-0.012176</td>\n",
       "      <td>-0.187853</td>\n",
       "      <td>0.512673</td>\n",
       "      <td>1.000000</td>\n",
       "      <td>-0.051133</td>\n",
       "      <td>-0.094461</td>\n",
       "      <td>0.301311</td>\n",
       "      <td>-0.387060</td>\n",
       "    </tr>\n",
       "    <tr>\n",
       "      <th>High_Cholesterol</th>\n",
       "      <td>-0.232736</td>\n",
       "      <td>0.020645</td>\n",
       "      <td>0.038320</td>\n",
       "      <td>-0.091066</td>\n",
       "      <td>-0.051133</td>\n",
       "      <td>1.000000</td>\n",
       "      <td>0.117339</td>\n",
       "      <td>0.002479</td>\n",
       "      <td>0.044540</td>\n",
       "    </tr>\n",
       "    <tr>\n",
       "      <th>Blood_Pressure</th>\n",
       "      <td>-0.122117</td>\n",
       "      <td>0.195928</td>\n",
       "      <td>0.077965</td>\n",
       "      <td>-0.018564</td>\n",
       "      <td>-0.094461</td>\n",
       "      <td>0.117339</td>\n",
       "      <td>1.000000</td>\n",
       "      <td>-0.025034</td>\n",
       "      <td>0.158393</td>\n",
       "    </tr>\n",
       "    <tr>\n",
       "      <th>Mental_Health</th>\n",
       "      <td>0.199528</td>\n",
       "      <td>0.002660</td>\n",
       "      <td>-0.341365</td>\n",
       "      <td>-0.042378</td>\n",
       "      <td>0.301311</td>\n",
       "      <td>0.002479</td>\n",
       "      <td>-0.025034</td>\n",
       "      <td>1.000000</td>\n",
       "      <td>-0.333152</td>\n",
       "    </tr>\n",
       "    <tr>\n",
       "      <th>Physical_Health</th>\n",
       "      <td>-0.159870</td>\n",
       "      <td>0.031429</td>\n",
       "      <td>0.314121</td>\n",
       "      <td>0.059302</td>\n",
       "      <td>-0.387060</td>\n",
       "      <td>0.044540</td>\n",
       "      <td>0.158393</td>\n",
       "      <td>-0.333152</td>\n",
       "      <td>1.000000</td>\n",
       "    </tr>\n",
       "  </tbody>\n",
       "</table>\n",
       "</div>"
      ],
      "text/plain": [
       "                  Birth_Year  Smoking_Habit  Exercise    Height    Weight  \\\n",
       "Birth_Year          1.000000      -0.070033 -0.033557  0.097544  0.160576   \n",
       "Smoking_Habit      -0.070033       1.000000  0.066124  0.032011 -0.012176   \n",
       "Exercise           -0.033557       0.066124  1.000000  0.056073 -0.187853   \n",
       "Height              0.097544       0.032011  0.056073  1.000000  0.512673   \n",
       "Weight              0.160576      -0.012176 -0.187853  0.512673  1.000000   \n",
       "High_Cholesterol   -0.232736       0.020645  0.038320 -0.091066 -0.051133   \n",
       "Blood_Pressure     -0.122117       0.195928  0.077965 -0.018564 -0.094461   \n",
       "Mental_Health       0.199528       0.002660 -0.341365 -0.042378  0.301311   \n",
       "Physical_Health    -0.159870       0.031429  0.314121  0.059302 -0.387060   \n",
       "\n",
       "                  High_Cholesterol  Blood_Pressure  Mental_Health  \\\n",
       "Birth_Year               -0.232736       -0.122117       0.199528   \n",
       "Smoking_Habit             0.020645        0.195928       0.002660   \n",
       "Exercise                  0.038320        0.077965      -0.341365   \n",
       "Height                   -0.091066       -0.018564      -0.042378   \n",
       "Weight                   -0.051133       -0.094461       0.301311   \n",
       "High_Cholesterol          1.000000        0.117339       0.002479   \n",
       "Blood_Pressure            0.117339        1.000000      -0.025034   \n",
       "Mental_Health             0.002479       -0.025034       1.000000   \n",
       "Physical_Health           0.044540        0.158393      -0.333152   \n",
       "\n",
       "                  Physical_Health  \n",
       "Birth_Year              -0.159870  \n",
       "Smoking_Habit            0.031429  \n",
       "Exercise                 0.314121  \n",
       "Height                   0.059302  \n",
       "Weight                  -0.387060  \n",
       "High_Cholesterol         0.044540  \n",
       "Blood_Pressure           0.158393  \n",
       "Mental_Health           -0.333152  \n",
       "Physical_Health          1.000000  "
      ]
     },
     "execution_count": 13,
     "metadata": {},
     "output_type": "execute_result"
    }
   ],
   "source": [
    "corr_matrix = X.corr()\n",
    "corr_matrix"
   ]
  },
  {
   "cell_type": "code",
   "execution_count": 14,
   "metadata": {
    "collapsed": false,
    "jupyter": {
     "outputs_hidden": false
    }
   },
   "outputs": [
    {
     "data": {
      "text/plain": [
       "1    0.51375\n",
       "0    0.48625\n",
       "Name: Disease, dtype: float64"
      ]
     },
     "execution_count": 14,
     "metadata": {},
     "output_type": "execute_result"
    }
   ],
   "source": [
    "# check for imbalances, should do this in first cells\n",
    "y.value_counts(normalize=True)"
   ]
  },
  {
   "cell_type": "code",
   "execution_count": 24,
   "metadata": {
    "collapsed": false,
    "jupyter": {
     "outputs_hidden": false
    }
   },
   "outputs": [],
   "source": [
    "X_num = X.select_dtypes(include='number')\n",
    "X_num_train, X_num_test, y_train, y_test = train_test_split(X_num, y, test_size=0.2, stratify=y, random_state=1230)\n",
    "min_max = MinMaxScaler()\n",
    "X_num_train = min_max.fit_transform(X_num_train)\n",
    "X_num_test = min_max.transform(X_num_test)\n"
   ]
  },
  {
   "cell_type": "code",
   "execution_count": 25,
   "metadata": {
    "collapsed": false,
    "jupyter": {
     "outputs_hidden": false
    }
   },
   "outputs": [],
   "source": [
    "lr = LogisticRegression()\n"
   ]
  },
  {
   "cell_type": "code",
   "execution_count": 26,
   "metadata": {
    "collapsed": false,
    "jupyter": {
     "outputs_hidden": false
    }
   },
   "outputs": [],
   "source": [
    "lr.fit(X_num_train, y_train)\n",
    "y_train_pred = lr.predict(X_num_train)\n",
    "y_pred = lr.predict(X_num_test)"
   ]
  },
  {
   "cell_type": "code",
   "execution_count": 27,
   "metadata": {
    "collapsed": false,
    "jupyter": {
     "outputs_hidden": false
    }
   },
   "outputs": [
    {
     "name": "stdout",
     "output_type": "stream",
     "text": [
      "0.7796875\n",
      "0.7875\n"
     ]
    }
   ],
   "source": [
    "print(lr.score(X_num_train, y_train))\n",
    "print(lr.score(X_num_test, y_test))"
   ]
  },
  {
   "cell_type": "code",
   "execution_count": 28,
   "metadata": {
    "collapsed": false,
    "jupyter": {
     "outputs_hidden": false
    }
   },
   "outputs": [
    {
     "data": {
      "text/plain": [
       "(0.794759825327511, 0.8023255813953488)"
      ]
     },
     "execution_count": 28,
     "metadata": {},
     "output_type": "execute_result"
    }
   ],
   "source": [
    "f1_score(y_train, y_train_pred), f1_score(y_test, y_pred)"
   ]
  }
 ],
 "metadata": {
  "kernelspec": {
   "display_name": "Python 3 (ipykernel)",
   "language": "python",
   "name": "python3"
  },
  "language_info": {
   "codemirror_mode": {
    "name": "ipython",
    "version": 3
   },
   "file_extension": ".py",
   "mimetype": "text/x-python",
   "name": "python",
   "nbconvert_exporter": "python",
   "pygments_lexer": "ipython3",
   "version": "3.10.4"
  }
 },
 "nbformat": 4,
 "nbformat_minor": 4
}
